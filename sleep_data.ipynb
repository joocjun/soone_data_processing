{
  "nbformat": 4,
  "nbformat_minor": 0,
  "metadata": {
    "colab": {
      "name": "sleep_data.ipynb",
      "provenance": [],
      "collapsed_sections": []
    },
    "kernelspec": {
      "name": "python3",
      "display_name": "Python 3"
    },
    "language_info": {
      "name": "python"
    }
  },
  "cells": [
    {
      "cell_type": "code",
      "metadata": {
        "id": "tOr5D8VX43Bv"
      },
      "source": [
        "from google.colab import drive\n",
        "import numpy as np\n",
        "import pandas as pd\n",
        "import matplotlib.pyplot as plt\n",
        "from datetime import datetime\n",
        "import json\n",
        "from os import listdir, mkdir\n",
        "from os.path import isdir\n",
        "import os\n",
        "from math import ceil, isnan\n",
        "from tqdm import tqdm"
      ],
      "execution_count": null,
      "outputs": []
    },
    {
      "cell_type": "code",
      "metadata": {
        "colab": {
          "base_uri": "https://localhost:8080/"
        },
        "id": "UKYYdaPu5KlX",
        "outputId": "7f40fc45-ad50-471f-a25b-d33a441bdedd"
      },
      "source": [
        "drive.mount('/content/drive')"
      ],
      "execution_count": null,
      "outputs": [
        {
          "output_type": "stream",
          "name": "stdout",
          "text": [
            "Mounted at /content/drive\n"
          ]
        }
      ]
    },
    {
      "cell_type": "code",
      "metadata": {
        "id": "VH0NccUGHkSw"
      },
      "source": [
        "BASE_DIR = \"/content/drive/Shareddrives/soone/summary_data\""
      ],
      "execution_count": null,
      "outputs": []
    },
    {
      "cell_type": "code",
      "metadata": {
        "id": "ZR4RvOjj5Mga",
        "colab": {
          "base_uri": "https://localhost:8080/"
        },
        "outputId": "38b60839-a489-4d53-f0bf-dd6bdebe562c"
      },
      "source": [
        "def get_all_user_id():\n",
        "    return [f[:-4] for f in listdir(\"/content/drive/Shareddrives/soone/user_data\")]\n",
        "get_all_user_id()[:10]"
      ],
      "execution_count": null,
      "outputs": [
        {
          "output_type": "execute_result",
          "data": {
            "text/plain": [
              "['1004',\n",
              " '1003',\n",
              " '1002',\n",
              " '1001',\n",
              " '30016',\n",
              " '1054',\n",
              " '1055',\n",
              " '1056',\n",
              " '1053',\n",
              " '1052']"
            ]
          },
          "metadata": {},
          "execution_count": 46
        }
      ]
    },
    {
      "cell_type": "code",
      "metadata": {
        "id": "c7RYYOqd5TNx"
      },
      "source": [
        "def get_sleep_data(id):\n",
        "    df = pd.read_csv(f\"/content/drive/Shareddrives/soone/user_data/{id}.csv\", encoding=\"cp949\")\n",
        "    sleep_record = []\n",
        "    sleep_stack = []\n",
        "    for idx, row in df.iterrows():\n",
        "        t = datetime.strptime(row[\"Time\"][1:], \"%Y-%m-%d %H:%M:%S\")\n",
        "        if len(sleep_stack) == 0 and (\"취침\" in row[\"Act\"]) and \\\n",
        "        (t.hour <= 5 or t.hour >= 20): # 수면 시작\n",
        "            sleep_stack.append(row[\"Time\"])\n",
        "        elif len(sleep_stack) == 1 and (\"기상\" in row[\"Act\"]):  # 수면 종료\n",
        "            \n",
        "            end = datetime.strptime(row[\"Time\"][1:], \"%Y-%m-%d %H:%M:%S\")\n",
        "            start = datetime.strptime(sleep_stack[0][1:],\"%Y-%m-%d %H:%M:%S\")\n",
        "            td = end - start # 수면 시간 길이 계산\n",
        "\n",
        "            td_hr = td.seconds / 3600\n",
        "            sleep_record.append({\"start\":start, \"end\":end, \n",
        "                                \"length\":td_hr})\n",
        "            sleep_stack.pop()\n",
        "    #print(sleep_record)\n",
        "    # export 할 dataframe 생성\n",
        "    sleep_df = pd.DataFrame(sleep_record)\n",
        "    sleep_hr_df = pd.DataFrame(index=pd.date_range(start=\"2021-08-01\", end=\"2021-08-31\", freq='D'), data={\"amount\":[0 for i in range(31)], \"start\":[None for i in range(31)], \"end\":[None for i in range(31)]})\n",
        "    for idx, row in sleep_df.iterrows():\n",
        "        target_day = datetime.strptime(str(row[\"start\"]).split()[0], \"%Y-%m-%d\")\n",
        "        sleep_hr_df[\"amount\"][target_day] += row[\"length\"]\n",
        "        if sleep_hr_df[\"start\"][target_day] == None:\n",
        "            sleep_hr_df[\"start\"][target_day] = row[\"start\"].hour + row[\"start\"].minute / 60\n",
        "        if sleep_hr_df[\"end\"][target_day] == None:\n",
        "            sleep_hr_df[\"end\"][target_day] = row[\"end\"].hour + row[\"end\"].minute /60\n",
        "    # 수면 score 계산\n",
        "    score = 100 - abs(sleep_hr_df[\"amount\"].mean() - 7.5)/7.5 *100 - sleep_hr_df[\"amount\"].std() * 10\n",
        "    return sleep_hr_df, score"
      ],
      "execution_count": null,
      "outputs": []
    },
    {
      "cell_type": "code",
      "metadata": {
        "colab": {
          "base_uri": "https://localhost:8080/",
          "height": 513
        },
        "id": "TvYUo3MrI8rW",
        "outputId": "dee7e78a-94de-416e-cb8b-e418829d8e1e"
      },
      "source": [
        "sleep_hr_df, score = get_sleep_data(\"1001\")\n",
        "sleep_hr_df.head()"
      ],
      "execution_count": null,
      "outputs": [
        {
          "output_type": "stream",
          "name": "stderr",
          "text": [
            "/usr/local/lib/python3.7/dist-packages/ipykernel_launcher.py:24: SettingWithCopyWarning: \n",
            "A value is trying to be set on a copy of a slice from a DataFrame\n",
            "\n",
            "See the caveats in the documentation: https://pandas.pydata.org/pandas-docs/stable/user_guide/indexing.html#returning-a-view-versus-a-copy\n",
            "/usr/local/lib/python3.7/dist-packages/pandas/core/indexing.py:670: SettingWithCopyWarning: \n",
            "A value is trying to be set on a copy of a slice from a DataFrame\n",
            "\n",
            "See the caveats in the documentation: https://pandas.pydata.org/pandas-docs/stable/user_guide/indexing.html#returning-a-view-versus-a-copy\n",
            "  iloc._setitem_with_indexer(indexer, value)\n",
            "/usr/local/lib/python3.7/dist-packages/ipykernel_launcher.py:26: SettingWithCopyWarning: \n",
            "A value is trying to be set on a copy of a slice from a DataFrame\n",
            "\n",
            "See the caveats in the documentation: https://pandas.pydata.org/pandas-docs/stable/user_guide/indexing.html#returning-a-view-versus-a-copy\n",
            "/usr/local/lib/python3.7/dist-packages/ipykernel_launcher.py:28: SettingWithCopyWarning: \n",
            "A value is trying to be set on a copy of a slice from a DataFrame\n",
            "\n",
            "See the caveats in the documentation: https://pandas.pydata.org/pandas-docs/stable/user_guide/indexing.html#returning-a-view-versus-a-copy\n"
          ]
        },
        {
          "output_type": "execute_result",
          "data": {
            "text/html": [
              "<div>\n",
              "<style scoped>\n",
              "    .dataframe tbody tr th:only-of-type {\n",
              "        vertical-align: middle;\n",
              "    }\n",
              "\n",
              "    .dataframe tbody tr th {\n",
              "        vertical-align: top;\n",
              "    }\n",
              "\n",
              "    .dataframe thead th {\n",
              "        text-align: right;\n",
              "    }\n",
              "</style>\n",
              "<table border=\"1\" class=\"dataframe\">\n",
              "  <thead>\n",
              "    <tr style=\"text-align: right;\">\n",
              "      <th></th>\n",
              "      <th>amount</th>\n",
              "      <th>start</th>\n",
              "      <th>end</th>\n",
              "    </tr>\n",
              "  </thead>\n",
              "  <tbody>\n",
              "    <tr>\n",
              "      <th>2021-08-01</th>\n",
              "      <td>0.000000</td>\n",
              "      <td>None</td>\n",
              "      <td>None</td>\n",
              "    </tr>\n",
              "    <tr>\n",
              "      <th>2021-08-02</th>\n",
              "      <td>0.000000</td>\n",
              "      <td>None</td>\n",
              "      <td>None</td>\n",
              "    </tr>\n",
              "    <tr>\n",
              "      <th>2021-08-03</th>\n",
              "      <td>0.000000</td>\n",
              "      <td>None</td>\n",
              "      <td>None</td>\n",
              "    </tr>\n",
              "    <tr>\n",
              "      <th>2021-08-04</th>\n",
              "      <td>1.086667</td>\n",
              "      <td>20.1833</td>\n",
              "      <td>21.2667</td>\n",
              "    </tr>\n",
              "    <tr>\n",
              "      <th>2021-08-05</th>\n",
              "      <td>0.000000</td>\n",
              "      <td>None</td>\n",
              "      <td>None</td>\n",
              "    </tr>\n",
              "  </tbody>\n",
              "</table>\n",
              "</div>"
            ],
            "text/plain": [
              "              amount    start      end\n",
              "2021-08-01  0.000000     None     None\n",
              "2021-08-02  0.000000     None     None\n",
              "2021-08-03  0.000000     None     None\n",
              "2021-08-04  1.086667  20.1833  21.2667\n",
              "2021-08-05  0.000000     None     None"
            ]
          },
          "metadata": {},
          "execution_count": 126
        }
      ]
    },
    {
      "cell_type": "code",
      "metadata": {
        "id": "B0RIt2f-5wlb"
      },
      "source": [
        "def generate_daily_sleep_record():\n",
        "    users = get_all_user_id()\n",
        "    for u in tqdm(users):\n",
        "        sleep_hr_df, score = get_sleep_data(u)\n",
        "        # make dir for user data\n",
        "        if not isdir(os.path.join(BASE_DIR,u)):\n",
        "            mkdir(os.path.join(BASE_DIR,u))\n",
        "        # make dir for user sleep data\n",
        "        if not isdir(os.path.join(BASE_DIR,u, \"sleep\")):\n",
        "            mkdir(os.path.join(BASE_DIR,u, \"sleep\"))\n",
        "        sleep_dir = os.path.join(BASE_DIR,u, \"sleep\")\n",
        "        daily_json_list = [[] for _ in range(ceil(31/7))]\n",
        "        i = 0\n",
        "        for _, row in sleep_hr_df.iterrows():\n",
        "            daily_record = {}\n",
        "            daily_record[\"up\"], daily_record[\"down\"], daily_record[\"length\"] = row[\"end\"], row[\"start\"], row[\"amount\"]\n",
        "            daily_json_list[i//7].append(daily_record)\n",
        "            i += 1\n",
        "        \n",
        "        f = open(os.path.join(sleep_dir, \"daily.json\"), \"w\")\n",
        "        json.dump(daily_json_list,f, indent=4)\n",
        "        f.close()\n"
      ],
      "execution_count": null,
      "outputs": []
    },
    {
      "cell_type": "code",
      "metadata": {
        "colab": {
          "base_uri": "https://localhost:8080/"
        },
        "id": "YLc6j7XVLP2W",
        "outputId": "a8409682-3c63-41cb-8c13-a72b06c67ab3"
      },
      "source": [
        "generate_daily_sleep_record()"
      ],
      "execution_count": null,
      "outputs": [
        {
          "output_type": "stream",
          "name": "stderr",
          "text": [
            "  0%|          | 0/170 [00:00<?, ?it/s]/usr/local/lib/python3.7/dist-packages/ipykernel_launcher.py:24: SettingWithCopyWarning: \n",
            "A value is trying to be set on a copy of a slice from a DataFrame\n",
            "\n",
            "See the caveats in the documentation: https://pandas.pydata.org/pandas-docs/stable/user_guide/indexing.html#returning-a-view-versus-a-copy\n",
            "/usr/local/lib/python3.7/dist-packages/pandas/core/indexing.py:670: SettingWithCopyWarning: \n",
            "A value is trying to be set on a copy of a slice from a DataFrame\n",
            "\n",
            "See the caveats in the documentation: https://pandas.pydata.org/pandas-docs/stable/user_guide/indexing.html#returning-a-view-versus-a-copy\n",
            "  iloc._setitem_with_indexer(indexer, value)\n",
            "/usr/local/lib/python3.7/dist-packages/ipykernel_launcher.py:26: SettingWithCopyWarning: \n",
            "A value is trying to be set on a copy of a slice from a DataFrame\n",
            "\n",
            "See the caveats in the documentation: https://pandas.pydata.org/pandas-docs/stable/user_guide/indexing.html#returning-a-view-versus-a-copy\n",
            "/usr/local/lib/python3.7/dist-packages/ipykernel_launcher.py:28: SettingWithCopyWarning: \n",
            "A value is trying to be set on a copy of a slice from a DataFrame\n",
            "\n",
            "See the caveats in the documentation: https://pandas.pydata.org/pandas-docs/stable/user_guide/indexing.html#returning-a-view-versus-a-copy\n",
            "100%|██████████| 170/170 [00:14<00:00, 12.05it/s]\n"
          ]
        }
      ]
    },
    {
      "cell_type": "code",
      "metadata": {
        "id": "lr3ilVJsFHp-"
      },
      "source": [
        "def generate_summary():\n",
        "    users = get_all_user_id()\n",
        "    score_list = []\n",
        "    avg_down_list = []\n",
        "    avg_up_list = []\n",
        "    avg_length_list = []\n",
        "    \n",
        "    for u in tqdm(users):\n",
        "        sleep_hr_df, score = get_sleep_data(u)\n",
        "        # make dir for user data\n",
        "        if not isdir(os.path.join(BASE_DIR,u)):\n",
        "            mkdir(os.path.join(BASE_DIR,u))\n",
        "        # make dir for user sleep data\n",
        "        if not isdir(os.path.join(BASE_DIR,u, \"sleep\")):\n",
        "            mkdir(os.path.join(BASE_DIR,u, \"sleep\"))\n",
        "        sleep_dir = os.path.join(BASE_DIR,u, \"sleep\")\n",
        "\n",
        "        up_list = []\n",
        "        down_list = []\n",
        "        for h in sleep_hr_df[\"end\"]:\n",
        "            if h == None:\n",
        "                up_list.append(None)\n",
        "            else:\n",
        "                if h >= 20:\n",
        "                    up_list.append(24-h)\n",
        "                else:\n",
        "                    up_list.append(h)\n",
        "        for h in sleep_hr_df[\"start\"]:\n",
        "            if h == None:\n",
        "                down_list.append(None)\n",
        "            else:\n",
        "                if h >= 20:\n",
        "                    down_list.append(24-h)\n",
        "                else:\n",
        "                    down_list.append(h)\n",
        "        \n",
        "        up_list = np.array(up_list)\n",
        "        up_list = up_list[up_list!=None]\n",
        "        down_list = np.array(down_list)\n",
        "        down_list = down_list[down_list!=None]\n",
        "        if len(up_list) == 0:\n",
        "            avg_up = None\n",
        "            avg_down = None\n",
        "\n",
        "        else:\n",
        "            avg_up = up_list[up_list!=None].mean()\n",
        "            avg_down = down_list[up_list!=None].mean()\n",
        "        if avg_up and avg_up < 0:\n",
        "            avg_up += 24\n",
        "        if avg_down and avg_down < 0:\n",
        "             avg_down += 24\n",
        "        avg_length = sleep_hr_df[\"amount\"].mean()\n",
        "      \n",
        "        if avg_up and isnan(avg_up): avg_up = None\n",
        "        if avg_down and isnan(avg_down): avg_down = None\n",
        "        all_none_check = True\n",
        "        score_list.append(score)\n",
        "        avg_up_list.append(avg_up)\n",
        "        avg_down_list.append(avg_down)\n",
        "        avg_length_list.append(avg_length)\n",
        "\n",
        "        score += 36.03032676920116\n",
        "        score = max(0, score)\n",
        "        summary = {\"avg_up\":avg_up, \"avg_down\":avg_down,\"avg_length\":avg_length,\n",
        "                   \"score\":score}\n",
        "        \n",
        "        f = open(os.path.join(sleep_dir, \"monthly.json\"), \"w\")\n",
        "        json.dump(summary,f, indent=4)\n",
        "        f.close()\n",
        "    \n",
        "    all_user_average = {\"avg_up\":np.array(avg_up).mean(),\n",
        "                        \"avg_down\": np.array(avg_down).mean(),\n",
        "                        \"avg_length\":sum(avg_length_list)/len(avg_length_list),\n",
        "                        \"score\":sum(score_list)/len(score_list) - min(score_list)\n",
        "                        }\n",
        "    if not isdir(os.path.join(BASE_DIR,\"all_user\")):\n",
        "            mkdir(os.path.join(BASE_DIR,\"all_user\"))\n",
        "    if not isdir(os.path.join(BASE_DIR,\"all_user\", \"sleep\")):\n",
        "            mkdir(os.path.join(BASE_DIR,\"all_user\", \"sleep\"))\n",
        "    \n",
        "\n",
        "    f = open(os.path.join(BASE_DIR, \"all_user\",\"sleep\",\"all_user_average.json\"), \"w\")\n",
        "    json.dump(all_user_average,f, indent=4)\n",
        "    f.close()\n",
        "\n",
        "def translate_time(t):\n",
        "    if t >= 20:\n",
        "        return 24 - t\n",
        "    else:\n",
        "        return t\n",
        "\n",
        "\n",
        "def generate_outliers():\n",
        "    users = get_all_user_id()\n",
        "    for u in tqdm(users):\n",
        "        sleep_hr_df, score = get_sleep_data(u)\n",
        "        \n",
        "        sleep_dir = os.path.join(BASE_DIR,u, \"sleep\")\n",
        "        daily_json_list = [[] for _ in range(ceil(31/7))]\n",
        "        i = 0\n",
        "        up_list, down_list, length_list = [], [], []\n",
        "\n",
        "        for _, row in sleep_hr_df.iterrows():\n",
        "            if row[\"start\"]:\n",
        "                down_list.append(translate_time(row[\"start\"]))\n",
        "            if row[\"end\"]:\n",
        "                up_list.append(translate_time(row[\"end\"]))\n",
        "            if row[\"amount\"]:\n",
        "                length_list.append(row[\"amount\"])\n",
        "        up_list = np.array(up_list)\n",
        "        down_list = np.array(down_list)\n",
        "        length_list = np.array(length_list)\n",
        "\n",
        "        up_mean, up_std = up_list.mean(), up_list.std()\n",
        "        down_mean, down_std = down_list.mean(), down_list.std()\n",
        "        length_mean, length_std = length_list.mean(), length_list.std()\n",
        "\n",
        "        i = 1\n",
        "        outlier = {\"up\":[], \"down\":[],\"length\":[]}\n",
        "        for _, row in sleep_hr_df.iterrows():\n",
        "            if row[\"start\"] and abs(translate_time(row[\"start\"])-down_mean) > down_std:\n",
        "                outlier[\"down\"].append(i)\n",
        "                # print(f\"time : {row['start']}, std : {down_std}, mean : {down_mean}\")\n",
        "            if row[\"end\"] and abs(translate_time(row[\"end\"])-up_mean) > up_std:\n",
        "                outlier[\"up\"].append(i)\n",
        "            if row[\"amount\"] and abs(row[\"amount\"]-length_mean) > length_std:\n",
        "                outlier[\"length\"].append(i)\n",
        "\n",
        "            i += 1\n",
        "        \n",
        "        f = open(os.path.join(sleep_dir, \"outlier.json\"), \"w\")\n",
        "        json.dump(outlier,f, indent=4)\n",
        "        f.close()"
      ],
      "execution_count": null,
      "outputs": []
    },
    {
      "cell_type": "code",
      "metadata": {
        "colab": {
          "base_uri": "https://localhost:8080/"
        },
        "id": "GMmIxQcOP7-B",
        "outputId": "48cb00e2-9e03-4c51-f72f-642fb1e5e1bc"
      },
      "source": [
        "generate_summary()"
      ],
      "execution_count": null,
      "outputs": [
        {
          "output_type": "stream",
          "name": "stderr",
          "text": [
            "  0%|          | 0/170 [00:00<?, ?it/s]/usr/local/lib/python3.7/dist-packages/ipykernel_launcher.py:24: SettingWithCopyWarning: \n",
            "A value is trying to be set on a copy of a slice from a DataFrame\n",
            "\n",
            "See the caveats in the documentation: https://pandas.pydata.org/pandas-docs/stable/user_guide/indexing.html#returning-a-view-versus-a-copy\n",
            "/usr/local/lib/python3.7/dist-packages/pandas/core/indexing.py:670: SettingWithCopyWarning: \n",
            "A value is trying to be set on a copy of a slice from a DataFrame\n",
            "\n",
            "See the caveats in the documentation: https://pandas.pydata.org/pandas-docs/stable/user_guide/indexing.html#returning-a-view-versus-a-copy\n",
            "  iloc._setitem_with_indexer(indexer, value)\n",
            "/usr/local/lib/python3.7/dist-packages/ipykernel_launcher.py:26: SettingWithCopyWarning: \n",
            "A value is trying to be set on a copy of a slice from a DataFrame\n",
            "\n",
            "See the caveats in the documentation: https://pandas.pydata.org/pandas-docs/stable/user_guide/indexing.html#returning-a-view-versus-a-copy\n",
            "/usr/local/lib/python3.7/dist-packages/ipykernel_launcher.py:28: SettingWithCopyWarning: \n",
            "A value is trying to be set on a copy of a slice from a DataFrame\n",
            "\n",
            "See the caveats in the documentation: https://pandas.pydata.org/pandas-docs/stable/user_guide/indexing.html#returning-a-view-versus-a-copy\n",
            "100%|██████████| 170/170 [00:13<00:00, 12.99it/s]\n"
          ]
        }
      ]
    },
    {
      "cell_type": "code",
      "metadata": {
        "colab": {
          "base_uri": "https://localhost:8080/"
        },
        "id": "8sYIdtxN_3yu",
        "outputId": "1f56b7bb-3a9e-4df7-9873-52c119f541bb"
      },
      "source": [
        "generate_outliers()"
      ],
      "execution_count": null,
      "outputs": [
        {
          "output_type": "stream",
          "name": "stderr",
          "text": [
            "  0%|          | 0/170 [00:00<?, ?it/s]/usr/local/lib/python3.7/dist-packages/ipykernel_launcher.py:24: SettingWithCopyWarning: \n",
            "A value is trying to be set on a copy of a slice from a DataFrame\n",
            "\n",
            "See the caveats in the documentation: https://pandas.pydata.org/pandas-docs/stable/user_guide/indexing.html#returning-a-view-versus-a-copy\n",
            "/usr/local/lib/python3.7/dist-packages/pandas/core/indexing.py:670: SettingWithCopyWarning: \n",
            "A value is trying to be set on a copy of a slice from a DataFrame\n",
            "\n",
            "See the caveats in the documentation: https://pandas.pydata.org/pandas-docs/stable/user_guide/indexing.html#returning-a-view-versus-a-copy\n",
            "  iloc._setitem_with_indexer(indexer, value)\n",
            "/usr/local/lib/python3.7/dist-packages/ipykernel_launcher.py:26: SettingWithCopyWarning: \n",
            "A value is trying to be set on a copy of a slice from a DataFrame\n",
            "\n",
            "See the caveats in the documentation: https://pandas.pydata.org/pandas-docs/stable/user_guide/indexing.html#returning-a-view-versus-a-copy\n",
            "/usr/local/lib/python3.7/dist-packages/ipykernel_launcher.py:28: SettingWithCopyWarning: \n",
            "A value is trying to be set on a copy of a slice from a DataFrame\n",
            "\n",
            "See the caveats in the documentation: https://pandas.pydata.org/pandas-docs/stable/user_guide/indexing.html#returning-a-view-versus-a-copy\n",
            "  4%|▍         | 7/170 [00:00<00:18,  8.64it/s]/usr/local/lib/python3.7/dist-packages/ipykernel_launcher.py:114: RuntimeWarning: Mean of empty slice.\n",
            "/usr/local/lib/python3.7/dist-packages/numpy/core/_methods.py:170: RuntimeWarning: invalid value encountered in double_scalars\n",
            "  ret = ret.dtype.type(ret / rcount)\n",
            "/usr/local/lib/python3.7/dist-packages/numpy/core/_methods.py:234: RuntimeWarning: Degrees of freedom <= 0 for slice\n",
            "  keepdims=keepdims)\n",
            "/usr/local/lib/python3.7/dist-packages/numpy/core/_methods.py:195: RuntimeWarning: invalid value encountered in true_divide\n",
            "  arrmean, rcount, out=arrmean, casting='unsafe', subok=False)\n",
            "/usr/local/lib/python3.7/dist-packages/numpy/core/_methods.py:226: RuntimeWarning: invalid value encountered in double_scalars\n",
            "  ret = ret.dtype.type(ret / rcount)\n",
            "/usr/local/lib/python3.7/dist-packages/ipykernel_launcher.py:115: RuntimeWarning: Mean of empty slice.\n",
            "/usr/local/lib/python3.7/dist-packages/ipykernel_launcher.py:116: RuntimeWarning: Mean of empty slice.\n",
            "100%|██████████| 170/170 [00:14<00:00, 11.65it/s]\n"
          ]
        }
      ]
    },
    {
      "cell_type": "code",
      "metadata": {
        "colab": {
          "base_uri": "https://localhost:8080/",
          "height": 608
        },
        "id": "tENUZeaCRB9H",
        "outputId": "e81b9fb7-c7d5-4e26-d1fc-7ce03d6790b6"
      },
      "source": [
        "def show_score_dist():\n",
        "    score_list = []\n",
        "    users = get_all_user_id()\n",
        "    for u in tqdm(users):\n",
        "        sleep_hr_df, score = get_sleep_data(u)\n",
        "        score_list.append(score)\n",
        "    plt.hist(score_list)\n",
        "    plt.show()\n",
        "    print(f\"min score : {min(score_list)}, max score : {max(score_list)}\")\n",
        "\n",
        "\n",
        "show_score_dist()\n",
        "\n"
      ],
      "execution_count": null,
      "outputs": [
        {
          "output_type": "stream",
          "name": "stderr",
          "text": [
            "  0%|          | 0/170 [00:00<?, ?it/s]/usr/local/lib/python3.7/dist-packages/ipykernel_launcher.py:24: SettingWithCopyWarning: \n",
            "A value is trying to be set on a copy of a slice from a DataFrame\n",
            "\n",
            "See the caveats in the documentation: https://pandas.pydata.org/pandas-docs/stable/user_guide/indexing.html#returning-a-view-versus-a-copy\n",
            "/usr/local/lib/python3.7/dist-packages/pandas/core/indexing.py:670: SettingWithCopyWarning: \n",
            "A value is trying to be set on a copy of a slice from a DataFrame\n",
            "\n",
            "See the caveats in the documentation: https://pandas.pydata.org/pandas-docs/stable/user_guide/indexing.html#returning-a-view-versus-a-copy\n",
            "  iloc._setitem_with_indexer(indexer, value)\n",
            "/usr/local/lib/python3.7/dist-packages/ipykernel_launcher.py:26: SettingWithCopyWarning: \n",
            "A value is trying to be set on a copy of a slice from a DataFrame\n",
            "\n",
            "See the caveats in the documentation: https://pandas.pydata.org/pandas-docs/stable/user_guide/indexing.html#returning-a-view-versus-a-copy\n",
            "/usr/local/lib/python3.7/dist-packages/ipykernel_launcher.py:28: SettingWithCopyWarning: \n",
            "A value is trying to be set on a copy of a slice from a DataFrame\n",
            "\n",
            "See the caveats in the documentation: https://pandas.pydata.org/pandas-docs/stable/user_guide/indexing.html#returning-a-view-versus-a-copy\n",
            "100%|██████████| 170/170 [00:11<00:00, 14.79it/s]\n"
          ]
        },
        {
          "output_type": "display_data",
          "data": {
            "image/png": "[encoded data removed]",
            "text/plain": [
              "<Figure size 432x288 with 1 Axes>"
            ]
          },
          "metadata": {
            "needs_background": "light"
          }
        },
        {
          "output_type": "stream",
          "name": "stdout",
          "text": [
            "min score : -36.03032676920116, max score : 64.86527554398431\n"
          ]
        }
      ]
    },
    {
      "cell_type": "code",
      "metadata": {
        "colab": {
          "base_uri": "https://localhost:8080/",
          "height": 173
        },
        "id": "ZVaWkFrh5zG9",
        "outputId": "a1050d67-3525-416e-ac3e-1a58b08c202b"
      },
      "source": [
        "sleep_hr_df.describe(exclude=[None])"
      ],
      "execution_count": null,
      "outputs": [
        {
          "output_type": "execute_result",
          "data": {
            "text/html": [
              "<div>\n",
              "<style scoped>\n",
              "    .dataframe tbody tr th:only-of-type {\n",
              "        vertical-align: middle;\n",
              "    }\n",
              "\n",
              "    .dataframe tbody tr th {\n",
              "        vertical-align: top;\n",
              "    }\n",
              "\n",
              "    .dataframe thead th {\n",
              "        text-align: right;\n",
              "    }\n",
              "</style>\n",
              "<table border=\"1\" class=\"dataframe\">\n",
              "  <thead>\n",
              "    <tr style=\"text-align: right;\">\n",
              "      <th></th>\n",
              "      <th>start</th>\n",
              "      <th>end</th>\n",
              "    </tr>\n",
              "  </thead>\n",
              "  <tbody>\n",
              "    <tr>\n",
              "      <th>count</th>\n",
              "      <td>6.000000</td>\n",
              "      <td>6.000000</td>\n",
              "    </tr>\n",
              "    <tr>\n",
              "      <th>unique</th>\n",
              "      <td>6.000000</td>\n",
              "      <td>6.000000</td>\n",
              "    </tr>\n",
              "    <tr>\n",
              "      <th>top</th>\n",
              "      <td>4.983333</td>\n",
              "      <td>15.533333</td>\n",
              "    </tr>\n",
              "    <tr>\n",
              "      <th>freq</th>\n",
              "      <td>1.000000</td>\n",
              "      <td>1.000000</td>\n",
              "    </tr>\n",
              "  </tbody>\n",
              "</table>\n",
              "</div>"
            ],
            "text/plain": [
              "           start        end\n",
              "count   6.000000   6.000000\n",
              "unique  6.000000   6.000000\n",
              "top     4.983333  15.533333\n",
              "freq    1.000000   1.000000"
            ]
          },
          "metadata": {},
          "execution_count": 37
        }
      ]
    },
    {
      "cell_type": "code",
      "metadata": {
        "id": "Ju8k4fQmrjKD"
      },
      "source": [
        ""
      ],
      "execution_count": null,
      "outputs": []
    }
  ]
}