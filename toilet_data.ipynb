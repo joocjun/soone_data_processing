{
  "nbformat": 4,
  "nbformat_minor": 0,
  "metadata": {
    "colab": {
      "name": "toilet_data.ipynb",
      "provenance": [],
      "collapsed_sections": []
    },
    "kernelspec": {
      "name": "python3",
      "display_name": "Python 3"
    },
    "language_info": {
      "name": "python"
    }
  },
  "cells": [
    {
      "cell_type": "code",
      "metadata": {
        "colab": {
          "base_uri": "https://localhost:8080/"
        },
        "id": "CcDdCCcEjKnJ",
        "outputId": "ee0016c4-a662-4b5d-c8b4-387aea5cee79"
      },
      "source": [
        "!pip install simplejson"
      ],
      "execution_count": null,
      "outputs": [
        {
          "output_type": "stream",
          "name": "stdout",
          "text": [
            "Collecting simplejson\n",
            "  Downloading simplejson-3.17.5-cp37-cp37m-manylinux_2_5_x86_64.manylinux1_x86_64.manylinux_2_12_x86_64.manylinux2010_x86_64.whl (129 kB)\n",
            "\u001b[?25l\r\u001b[K     |██▌                             | 10 kB 20.7 MB/s eta 0:00:01\r\u001b[K     |█████                           | 20 kB 9.5 MB/s eta 0:00:01\r\u001b[K     |███████▋                        | 30 kB 8.1 MB/s eta 0:00:01\r\u001b[K     |██████████                      | 40 kB 7.4 MB/s eta 0:00:01\r\u001b[K     |████████████▋                   | 51 kB 4.0 MB/s eta 0:00:01\r\u001b[K     |███████████████▏                | 61 kB 4.2 MB/s eta 0:00:01\r\u001b[K     |█████████████████▋              | 71 kB 4.3 MB/s eta 0:00:01\r\u001b[K     |████████████████████▏           | 81 kB 4.9 MB/s eta 0:00:01\r\u001b[K     |██████████████████████▊         | 92 kB 3.7 MB/s eta 0:00:01\r\u001b[K     |█████████████████████████▎      | 102 kB 4.0 MB/s eta 0:00:01\r\u001b[K     |███████████████████████████▊    | 112 kB 4.0 MB/s eta 0:00:01\r\u001b[K     |██████████████████████████████▎ | 122 kB 4.0 MB/s eta 0:00:01\r\u001b[K     |████████████████████████████████| 129 kB 4.0 MB/s \n",
            "\u001b[?25hInstalling collected packages: simplejson\n",
            "Successfully installed simplejson-3.17.5\n"
          ]
        }
      ]
    },
    {
      "cell_type": "code",
      "metadata": {
        "id": "Wbu8ZgGzArgt"
      },
      "source": [
        "import warnings\n",
        "warnings.filterwarnings('ignore')"
      ],
      "execution_count": null,
      "outputs": []
    },
    {
      "cell_type": "code",
      "metadata": {
        "id": "Ao3Qx82VF5Ud"
      },
      "source": [
        "from google.colab import drive\n",
        "import numpy as np\n",
        "import pandas as pd\n",
        "import matplotlib.pyplot as plt\n",
        "from datetime import datetime\n",
        "import json\n",
        "from os import listdir, mkdir\n",
        "from os.path import isdir\n",
        "import os\n",
        "from math import ceil, isnan\n",
        "from tqdm import tqdm\n",
        "import simplejson "
      ],
      "execution_count": null,
      "outputs": []
    },
    {
      "cell_type": "code",
      "metadata": {
        "colab": {
          "base_uri": "https://localhost:8080/"
        },
        "id": "jw7W9ZoPGKjP",
        "outputId": "d67ba511-535f-4d70-ad60-d85be305acc1"
      },
      "source": [
        "drive.mount('/content/drive')"
      ],
      "execution_count": null,
      "outputs": [
        {
          "output_type": "stream",
          "name": "stdout",
          "text": [
            "Mounted at /content/drive\n"
          ]
        }
      ]
    },
    {
      "cell_type": "code",
      "metadata": {
        "id": "_H4T9xSZGMEu"
      },
      "source": [
        "BASE_DIR = \"/content/drive/Shareddrives/soone/summary_data\""
      ],
      "execution_count": null,
      "outputs": []
    },
    {
      "cell_type": "code",
      "metadata": {
        "id": "jvll39cAGVHL"
      },
      "source": [
        "def get_all_user_id():\n",
        "    return [f[:-4] for f in listdir(\"/content/drive/Shareddrives/soone/user_data\")]\n"
      ],
      "execution_count": null,
      "outputs": []
    },
    {
      "cell_type": "code",
      "metadata": {
        "id": "1zSR86TsGYio"
      },
      "source": [
        "def get_toilet_data(id):\n",
        "    df = pd.read_csv(f\"/content/drive/Shareddrives/soone/user_data/{id}.csv\", encoding=\"cp949\")\n",
        "    df = df.dropna(subset=[\"Act\"])\n",
        "    toilet_list = [[] for _ in range(31)]\n",
        "    for idx, row in df.iterrows():\n",
        "        t = datetime.strptime(row[\"Time\"][1:], \"%Y-%m-%d %H:%M:%S\")\n",
        "        if  ( \"용변\" in row[\"Act\"]): # 복약 판단\n",
        "            toilet_list[t.day-1].append(t.hour + t.minute/60)\n",
        "\n",
        "    toilet_count = np.array([len(p) for p in toilet_list])\n",
        "    toilet_count_mean = toilet_count.mean()\n",
        "    toilet_count_std = toilet_count.std()\n",
        "    max_toilet_count = max(toilet_count)\n",
        "    perfect_toilet_count = max_toilet_count * 31\n",
        "    score = toilet_count.sum() / perfect_toilet_count * 100\n",
        "    outliers = []\n",
        "    for i, p in enumerate(toilet_count):\n",
        "        if abs(p-toilet_count_mean) > toilet_count_std:\n",
        "            outliers.append(i+1)\n",
        "\n",
        "    score = (31-toilet_list.count([])) / 31 * 100\n",
        "    return toilet_list, score, outliers"
      ],
      "execution_count": null,
      "outputs": []
    },
    {
      "cell_type": "code",
      "metadata": {
        "id": "X-XJwb0uMmu4"
      },
      "source": [
        "def generate_daily_record():\n",
        "    user_list = get_all_user_id()\n",
        "    for u in tqdm(user_list):\n",
        "        toilet_record, score, outliers = get_toilet_data(u)\n",
        "        # make dir for user data\n",
        "        if not isdir(os.path.join(BASE_DIR,u)):\n",
        "            mkdir(os.path.join(BASE_DIR,u))\n",
        "        # make dir for user sleep data\n",
        "        if not isdir(os.path.join(BASE_DIR,u, \"toilet\")):\n",
        "            mkdir(os.path.join(BASE_DIR,u, \"toilet\"))\n",
        "        toilet_dir = os.path.join(BASE_DIR,u, \"toilet\")\n",
        "        daily_json_list = [[] for _ in range(ceil(31/7))]\n",
        "        \n",
        "        for i, d in enumerate(toilet_record):\n",
        "            daily_json_list[i//7].append(d)\n",
        "           \n",
        "        \n",
        "        f = open(os.path.join(toilet_dir, \"daily.json\"), \"w\")\n",
        "       \n",
        "        simplejson.dump(daily_json_list, fp=f, indent=4*\" \", ignore_nan=True)\n",
        "        f.close()\n",
        "        \n",
        "        f = open(os.path.join(toilet_dir, \"outlier.json\"), \"w\")\n",
        "        simplejson.dump(outliers, fp=f, indent=\" \"*4)\n",
        "        f.close()\n"
      ],
      "execution_count": null,
      "outputs": []
    },
    {
      "cell_type": "code",
      "metadata": {
        "colab": {
          "base_uri": "https://localhost:8080/"
        },
        "id": "1y_lEX5jQc5m",
        "outputId": "20c16b46-cde1-4587-ba36-3ee790c239e2"
      },
      "source": [
        "generate_daily_record()"
      ],
      "execution_count": null,
      "outputs": [
        {
          "output_type": "stream",
          "name": "stderr",
          "text": [
            "100%|██████████| 170/170 [00:11<00:00, 14.76it/s]\n"
          ]
        }
      ]
    },
    {
      "cell_type": "code",
      "metadata": {
        "colab": {
          "base_uri": "https://localhost:8080/"
        },
        "id": "bRsoG21sBs4X",
        "outputId": "40bd532c-3e87-45bf-fd19-3c1e23ebc094"
      },
      "source": [
        "a = np.array([1,5,3,2,5,7])\n",
        "np.argpartition(a, -3)[-4:]"
      ],
      "execution_count": null,
      "outputs": [
        {
          "output_type": "execute_result",
          "data": {
            "text/plain": [
              "array([2, 4, 1, 5])"
            ]
          },
          "metadata": {},
          "execution_count": 21
        }
      ]
    },
    {
      "cell_type": "code",
      "metadata": {
        "id": "lpz5z5-ze-yJ"
      },
      "source": [
        "def generate_monthly_record():\n",
        "    user_list = get_all_user_id()\n",
        "    for u in tqdm(user_list):\n",
        "        toilet_record, score, _ = get_toilet_data(u)\n",
        "\n",
        "        time_count = [0 for _ in range(24)]\n",
        "        for day in toilet_record:\n",
        "            for h in day:\n",
        "                time_count[int(h)] += 1\n",
        "        time_count = np.array(time_count)\n",
        "\n",
        "        top5 = np.argsort(time_count)[-5:].tolist()\n",
        "        toilet_count = np.array([len(p) for p in toilet_record])\n",
        "        toilet_count_mean = toilet_count.mean()\n",
        "\n",
        "        monthly_record = {\"avg_count\": toilet_count_mean, \"top_5\": top5, \"score\": score}\n",
        "\n",
        "        toilet_dir = os.path.join(BASE_DIR,u, \"toilet\")\n",
        "\n",
        "        f = open(os.path.join(toilet_dir,\"monthly.json\"), \"w\")\n",
        "        simplejson.dump(monthly_record, fp=f, indent=4*\" \", ignore_nan=True)\n",
        "        f.close()\n",
        "\n",
        "\n",
        "\n",
        "        \n",
        "\n",
        "\n",
        "       \n",
        "\n"
      ],
      "execution_count": null,
      "outputs": []
    },
    {
      "cell_type": "code",
      "metadata": {
        "colab": {
          "base_uri": "https://localhost:8080/"
        },
        "id": "7MvQEVODn9zf",
        "outputId": "6281b00a-3c84-4fff-84ed-bdf481b0079b"
      },
      "source": [
        "generate_monthly_record()"
      ],
      "execution_count": null,
      "outputs": [
        {
          "output_type": "stream",
          "name": "stderr",
          "text": [
            "100%|██████████| 170/170 [00:10<00:00, 16.06it/s]\n"
          ]
        }
      ]
    },
    {
      "cell_type": "code",
      "metadata": {
        "colab": {
          "base_uri": "https://localhost:8080/"
        },
        "id": "T4nDGQ3hnHR9",
        "outputId": "5d1d06d2-4549-4c91-9799-24c427fd8943"
      },
      "source": [
        "df.iloc[1].isna()"
      ],
      "execution_count": null,
      "outputs": [
        {
          "output_type": "execute_result",
          "data": {
            "text/plain": [
              "brkfst    False\n",
              "lnch      False\n",
              "dnr        True\n",
              "count     False\n",
              "Name: 1, dtype: bool"
            ]
          },
          "metadata": {},
          "execution_count": 67
        }
      ]
    },
    {
      "cell_type": "code",
      "metadata": {
        "id": "MOJBUVivoLy9"
      },
      "source": [
        "def check_score_hist():\n",
        "    user_list = get_all_user_id()\n",
        "    score_list = [ get_meal_data(u)[1] for u in get_all_user_id()]\n",
        "    plt.hist(score_list)\n",
        "    print(f\"min : {min(score_list)}, max : {max(score_list)}\")\n",
        "    plt.show()"
      ],
      "execution_count": null,
      "outputs": []
    },
    {
      "cell_type": "code",
      "metadata": {
        "colab": {
          "base_uri": "https://localhost:8080/",
          "height": 282
        },
        "id": "L3smeAKsnJsg",
        "outputId": "f25103eb-d0b9-4eea-8b41-11902ba012e7"
      },
      "source": [
        "check_score_hist()"
      ],
      "execution_count": null,
      "outputs": [
        {
          "output_type": "stream",
          "name": "stdout",
          "text": [
            "min : 3.349644656479509, max : 88.41554662334516\n"
          ]
        },
        {
          "output_type": "display_data",
          "data": {
            "image/png": "[encoded data removed]",
            "text/plain": [
              "<Figure size 432x288 with 1 Axes>"
            ]
          },
          "metadata": {
            "needs_background": "light"
          }
        }
      ]
    },
    {
      "cell_type": "code",
      "metadata": {
        "id": "uqdUSaLwopd_"
      },
      "source": [
        "def generate_all_user_data():\n",
        "    user_list = get_all_user_id()\n",
        "\n",
        "    score_list = []\n",
        "    time_count = [0 for _ in range(24)]\n",
        "    avg_count_list = []\n",
        "\n",
        "    # make dir for user data\n",
        "    if not isdir(os.path.join(BASE_DIR,\"all_user\")):\n",
        "        mkdir(os.path.join(BASE_DIR,\"all_user\"))\n",
        "    # make dir for user sleep data\n",
        "    if not isdir(os.path.join(BASE_DIR,\"all_user\", \"toilet\")):\n",
        "        mkdir(os.path.join(BASE_DIR,\"all_user\", \"toilet\"))\n",
        "\n",
        "    for u in tqdm(user_list):\n",
        "        toilet_record, score, _ = get_toilet_data(u)\n",
        "\n",
        "        score_list.append(score)\n",
        "        time_count = [0 for _ in range(24)]\n",
        "        for day in toilet_record:\n",
        "            for h in day:\n",
        "                time_count[int(h)] += 1\n",
        "        time_count = np.array(time_count)\n",
        "\n",
        "        toilet_count = np.array([len(p) for p in toilet_record])\n",
        "        toilet_count_mean = toilet_count.mean()\n",
        "        \n",
        "        avg_count_list.append(toilet_count_mean)\n",
        "        \n",
        "\n",
        "    mean_score = np.array(score_list).mean()\n",
        "    top5 = np.argsort(time_count)[-5:].tolist()\n",
        "    avg_count = np.array(avg_count_list).mean()\n",
        "\n",
        "    all_user_data = {\"avg_count\": avg_count, \"top_5\": top5, \"score\": mean_score}\n",
        "\n",
        "    toilet_dir = os.path.join(BASE_DIR,\"all_user\", \"toilet\")\n",
        "\n",
        "    f = open(os.path.join(toilet_dir,\"all_user.json\"), \"w\")\n",
        "    simplejson.dump(all_user_data, fp=f, indent=4*\" \", ignore_nan=True)\n",
        "    f.close()\n",
        "\n",
        "\n"
      ],
      "execution_count": null,
      "outputs": []
    },
    {
      "cell_type": "code",
      "metadata": {
        "colab": {
          "base_uri": "https://localhost:8080/"
        },
        "id": "HwDe-30fqx6w",
        "outputId": "116da640-76fa-4e2e-b093-f056cc73a3cf"
      },
      "source": [
        "generate_all_user_data()"
      ],
      "execution_count": null,
      "outputs": [
        {
          "output_type": "stream",
          "name": "stderr",
          "text": [
            "100%|██████████| 170/170 [00:09<00:00, 17.78it/s]\n"
          ]
        }
      ]
    },
    {
      "cell_type": "code",
      "metadata": {
        "id": "5RMjAVRcqzcL"
      },
      "source": [
        "def generate_outlier():\n",
        "    user_list = get_all_user_id()\n",
        "    for u in user_list:\n",
        "        "
      ],
      "execution_count": null,
      "outputs": []
    }
  ]
}