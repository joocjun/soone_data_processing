{
  "nbformat": 4,
  "nbformat_minor": 0,
  "metadata": {
    "colab": {
      "name": "workout_data.ipynb",
      "provenance": [],
      "collapsed_sections": []
    },
    "kernelspec": {
      "name": "python3",
      "display_name": "Python 3"
    },
    "language_info": {
      "name": "python"
    }
  },
  "cells": [
    {
      "cell_type": "code",
      "metadata": {
        "id": "ngM-44nIOozN"
      },
      "source": [
        "import warnings\n",
        "warnings.filterwarnings('ignore')"
      ],
      "execution_count": null,
      "outputs": []
    },
    {
      "cell_type": "code",
      "metadata": {
        "colab": {
          "base_uri": "https://localhost:8080/"
        },
        "id": "CcDdCCcEjKnJ",
        "outputId": "529aae30-5e26-4c3e-dbcf-f180a86840cb"
      },
      "source": [
        "!pip install simplejson"
      ],
      "execution_count": null,
      "outputs": [
        {
          "output_type": "stream",
          "name": "stdout",
          "text": [
            "Collecting simplejson\n",
            "  Downloading simplejson-3.17.5-cp37-cp37m-manylinux_2_5_x86_64.manylinux1_x86_64.manylinux_2_12_x86_64.manylinux2010_x86_64.whl (129 kB)\n",
            "\u001b[?25l\r\u001b[K     |██▌                             | 10 kB 15.4 MB/s eta 0:00:01\r\u001b[K     |█████                           | 20 kB 12.5 MB/s eta 0:00:01\r\u001b[K     |███████▋                        | 30 kB 9.7 MB/s eta 0:00:01\r\u001b[K     |██████████                      | 40 kB 8.7 MB/s eta 0:00:01\r\u001b[K     |████████████▋                   | 51 kB 4.3 MB/s eta 0:00:01\r\u001b[K     |███████████████▏                | 61 kB 4.4 MB/s eta 0:00:01\r\u001b[K     |█████████████████▋              | 71 kB 4.2 MB/s eta 0:00:01\r\u001b[K     |████████████████████▏           | 81 kB 4.7 MB/s eta 0:00:01\r\u001b[K     |██████████████████████▊         | 92 kB 4.5 MB/s eta 0:00:01\r\u001b[K     |█████████████████████████▎      | 102 kB 4.1 MB/s eta 0:00:01\r\u001b[K     |███████████████████████████▊    | 112 kB 4.1 MB/s eta 0:00:01\r\u001b[K     |██████████████████████████████▎ | 122 kB 4.1 MB/s eta 0:00:01\r\u001b[K     |████████████████████████████████| 129 kB 4.1 MB/s \n",
            "\u001b[?25hInstalling collected packages: simplejson\n",
            "Successfully installed simplejson-3.17.5\n"
          ]
        }
      ]
    },
    {
      "cell_type": "code",
      "metadata": {
        "id": "Ao3Qx82VF5Ud"
      },
      "source": [
        "from google.colab import drive\n",
        "import numpy as np\n",
        "import pandas as pd\n",
        "import matplotlib.pyplot as plt\n",
        "from datetime import datetime\n",
        "import json\n",
        "from os import listdir, mkdir\n",
        "from os.path import isdir\n",
        "import os\n",
        "from math import ceil, isnan\n",
        "from tqdm import tqdm\n",
        "import simplejson "
      ],
      "execution_count": null,
      "outputs": []
    },
    {
      "cell_type": "code",
      "metadata": {
        "id": "bMr_fLlQjKRi"
      },
      "source": [
        ""
      ],
      "execution_count": null,
      "outputs": []
    },
    {
      "cell_type": "code",
      "metadata": {
        "colab": {
          "base_uri": "https://localhost:8080/"
        },
        "id": "jw7W9ZoPGKjP",
        "outputId": "a9fbea00-2175-438f-ae8e-a73cdfee1668"
      },
      "source": [
        "drive.mount('/content/drive')"
      ],
      "execution_count": null,
      "outputs": [
        {
          "output_type": "stream",
          "name": "stdout",
          "text": [
            "Mounted at /content/drive\n"
          ]
        }
      ]
    },
    {
      "cell_type": "code",
      "metadata": {
        "id": "_H4T9xSZGMEu"
      },
      "source": [
        "BASE_DIR = \"/content/drive/Shareddrives/soone/summary_data\""
      ],
      "execution_count": null,
      "outputs": []
    },
    {
      "cell_type": "code",
      "metadata": {
        "id": "jvll39cAGVHL"
      },
      "source": [
        "def get_all_user_id():\n",
        "    return [f[:-4] for f in listdir(\"/content/drive/Shareddrives/soone/user_data\")]\n"
      ],
      "execution_count": null,
      "outputs": []
    },
    {
      "cell_type": "code",
      "metadata": {
        "id": "1zSR86TsGYio"
      },
      "source": [
        "def get_workout_data(id):\n",
        "    df = pd.read_csv(f\"/content/drive/Shareddrives/soone/user_data/{id}.csv\", encoding=\"cp949\")\n",
        "    df = df.dropna(subset=[\"Act\"])\n",
        "    workout_list = [[] for _ in range(31)]\n",
        "    for idx, row in df.iterrows():\n",
        "        t = datetime.strptime(row[\"Time\"][1:], \"%Y-%m-%d %H:%M:%S\")\n",
        "        if  ( \"운동\" in row[\"Act\"]): # 운동 판단\n",
        "            workout_list[t.day-1].append(t.hour + t.minute/60)\n",
        "\n",
        "    workout_count = np.array([len(p) for p in workout_list])\n",
        "    workout_count_mean = workout_count.mean()\n",
        "    workout_count_std = workout_count.std()\n",
        "    max_workout_count = max(workout_count)\n",
        "    perfect_workout_count = max_workout_count * 31\n",
        "    score = workout_count.sum() / perfect_workout_count * 100\n",
        "    outliers = []\n",
        "    for i, p in enumerate(workout_count):\n",
        "        if abs(p-workout_count_mean) > workout_count_std:\n",
        "            outliers.append(i+1)\n",
        "\n",
        "    score = (31-workout_list.count([])) / 31 * 100\n",
        "    return workout_list, score, outliers"
      ],
      "execution_count": null,
      "outputs": []
    },
    {
      "cell_type": "code",
      "metadata": {
        "id": "X-XJwb0uMmu4"
      },
      "source": [
        "def generate_daily_record():\n",
        "    user_list = get_all_user_id()\n",
        "    for u in tqdm(user_list):\n",
        "        workout_record, score, outliers = get_workout_data(u)\n",
        "        # make dir for user data\n",
        "        if not isdir(os.path.join(BASE_DIR,u)):\n",
        "            mkdir(os.path.join(BASE_DIR,u))\n",
        "        # make dir for user sleep data\n",
        "        if not isdir(os.path.join(BASE_DIR,u, \"workout\")):\n",
        "            mkdir(os.path.join(BASE_DIR,u, \"workout\"))\n",
        "        workout_dir = os.path.join(BASE_DIR,u, \"workout\")\n",
        "        daily_json_list = [[] for _ in range(ceil(31/7))]\n",
        "        \n",
        "        for i, d in enumerate(workout_record):\n",
        "            daily_json_list[i//7].append(d)\n",
        "           \n",
        "        \n",
        "        f = open(os.path.join(workout_dir, \"daily.json\"), \"w\")\n",
        "       \n",
        "        simplejson.dump(daily_json_list, fp=f, indent=4*\" \", ignore_nan=True)\n",
        "        f.close()\n",
        "        \n",
        "        f = open(os.path.join(workout_dir, \"outlier.json\"), \"w\")\n",
        "        simplejson.dump(outliers, fp=f, indent=\" \"*4)\n",
        "        f.close()"
      ],
      "execution_count": null,
      "outputs": []
    },
    {
      "cell_type": "code",
      "metadata": {
        "colab": {
          "base_uri": "https://localhost:8080/"
        },
        "id": "1y_lEX5jQc5m",
        "outputId": "6f70938e-000a-465b-dc16-c8b7e77a7137"
      },
      "source": [
        "generate_daily_record()"
      ],
      "execution_count": null,
      "outputs": [
        {
          "output_type": "stream",
          "name": "stderr",
          "text": [
            "100%|██████████| 170/170 [00:44<00:00,  3.85it/s]\n"
          ]
        }
      ]
    },
    {
      "cell_type": "code",
      "metadata": {
        "colab": {
          "base_uri": "https://localhost:8080/",
          "height": 35
        },
        "id": "J475KSM9Qfbc",
        "outputId": "f4d88b4b-6c75-4c35-ca49-8577b285237e"
      },
      "source": [
        " get_all_user_id()[158]"
      ],
      "execution_count": null,
      "outputs": [
        {
          "output_type": "execute_result",
          "data": {
            "application/vnd.google.colaboratory.intrinsic+json": {
              "type": "string"
            },
            "text/plain": [
              "'811'"
            ]
          },
          "metadata": {},
          "execution_count": 21
        }
      ]
    },
    {
      "cell_type": "code",
      "metadata": {
        "id": "lpz5z5-ze-yJ"
      },
      "source": [
        "def generate_monthly_record():\n",
        "    user_list = get_all_user_id()\n",
        "    for u in tqdm(user_list):\n",
        "        meal_record, score = get_meal_data(u)\n",
        "\n",
        "        meal_dir = os.path.join(BASE_DIR,u, \"meal\")\n",
        "        daily_json_list = [[] for _ in range(ceil(31/7))]\n",
        "        \n",
        "        monthly_record = {}\n",
        "        avg_brkfst = meal_record[brkfst].mean()\n",
        "        avg_lnch = meal_record[lnch].mean()\n",
        "        avg_dnr = meal_record[dnr].mean()\n",
        "        \n",
        "        monthly_record[\"avg_brkfst\"] = avg_brkfst\n",
        "        monthly_record[\"avg_lnch\"] = avg_lnch\n",
        "        monthly_record[\"avg_dnr\"] = avg_dnr\n",
        "        monthly_record[\"score\"] = score\n",
        "\n",
        "        f = open(os.path.join(meal_dir, \"monthly.json\"), \"w\")\n",
        "       \n",
        "        simplejson.dump(monthly_record, fp=f, indent=4*\" \", ignore_nan=True)\n",
        "        f.close()\n",
        "\n",
        "def generate_outlier():\n",
        "    user_list = get_all_user_id()\n",
        "    for u in tqdm(user_list):\n",
        "        meal_record, score = get_meal_data(u)\n",
        "\n",
        "        meal_dir = os.path.join(BASE_DIR,u, \"meal\")\n",
        "        daily_json_list = [[] for _ in range(ceil(31/7))]\n",
        "        \n",
        "        skip_list = [[], [], []]\n",
        "\n",
        "        for i, row in meal_record.iterrows():\n",
        "            row_skip = row.isna()\n",
        "            for j in range(3):\n",
        "                if row_skip[j]:\n",
        "                    skip_list[j].append(i+1)\n",
        "\n",
        "        skip_record = {\"brkfst\":skip_list[0], \"lnch\":skip_list[1], \"dnr\":skip_list[2]}\n",
        "        f = open(os.path.join(meal_dir, \"outlier.json\"), \"w\")\n",
        "       \n",
        "        simplejson.dump(skip_record, fp=f, indent=4*\" \", ignore_nan=True)\n",
        "        f.close()"
      ],
      "execution_count": null,
      "outputs": []
    },
    {
      "cell_type": "code",
      "metadata": {
        "colab": {
          "base_uri": "https://localhost:8080/"
        },
        "id": "7MvQEVODn9zf",
        "outputId": "84752d29-dd9b-4b2f-bebb-768a101a21a5"
      },
      "source": [
        "generate_monthly_record()\n",
        "generate_outlier()"
      ],
      "execution_count": null,
      "outputs": [
        {
          "output_type": "stream",
          "name": "stderr",
          "text": [
            "100%|██████████| 170/170 [00:11<00:00, 15.18it/s]\n",
            "100%|██████████| 170/170 [00:12<00:00, 13.79it/s]\n"
          ]
        }
      ]
    },
    {
      "cell_type": "code",
      "metadata": {
        "colab": {
          "base_uri": "https://localhost:8080/"
        },
        "id": "T4nDGQ3hnHR9",
        "outputId": "5d1d06d2-4549-4c91-9799-24c427fd8943"
      },
      "source": [
        "df.iloc[1].isna()"
      ],
      "execution_count": null,
      "outputs": [
        {
          "output_type": "execute_result",
          "data": {
            "text/plain": [
              "brkfst    False\n",
              "lnch      False\n",
              "dnr        True\n",
              "count     False\n",
              "Name: 1, dtype: bool"
            ]
          },
          "metadata": {},
          "execution_count": 67
        }
      ]
    },
    {
      "cell_type": "code",
      "metadata": {
        "id": "MOJBUVivoLy9"
      },
      "source": [
        "def check_score_hist():\n",
        "    user_list = get_all_user_id()\n",
        "    score_list = [ get_meal_data(u)[1] for u in get_all_user_id()]\n",
        "    plt.hist(score_list)\n",
        "    print(f\"min : {min(score_list)}, max : {max(score_list)}\")\n",
        "    plt.show()"
      ],
      "execution_count": null,
      "outputs": []
    },
    {
      "cell_type": "code",
      "metadata": {
        "colab": {
          "base_uri": "https://localhost:8080/",
          "height": 282
        },
        "id": "L3smeAKsnJsg",
        "outputId": "f25103eb-d0b9-4eea-8b41-11902ba012e7"
      },
      "source": [
        "check_score_hist()"
      ],
      "execution_count": null,
      "outputs": [
        {
          "output_type": "stream",
          "name": "stdout",
          "text": [
            "min : 3.349644656479509, max : 88.41554662334516\n"
          ]
        },
        {
          "output_type": "display_data",
          "data": {
            "image/png": "[encoded data removed]",
            "text/plain": [
              "<Figure size 432x288 with 1 Axes>"
            ]
          },
          "metadata": {
            "needs_background": "light"
          }
        }
      ]
    },
    {
      "cell_type": "code",
      "metadata": {
        "id": "uqdUSaLwopd_"
      },
      "source": [
        "def generate_monthly_record():\n",
        "    user_list = get_all_user_id()\n",
        "    for u in tqdm(user_list):\n",
        "        workout_record, score, _ = get_workout_data(u)\n",
        "\n",
        "        time_count = [0 for _ in range(24)]\n",
        "        for day in workout_record:\n",
        "            for h in day:\n",
        "                time_count[int(h)] += 1\n",
        "        time_count = np.array(time_count)\n",
        "\n",
        "        top3 = np.argsort(time_count)[-3:].tolist()\n",
        "        workout_count = np.array([len(p) for p in workout_record])\n",
        "        workout_count_mean = workout_count.mean()\n",
        "\n",
        "        monthly_record = {\"avg_count\": workout_count_mean, \"top_3\": top3, \"score\": score}\n",
        "\n",
        "        workout_dir = os.path.join(BASE_DIR,u, \"workout\")\n",
        "\n",
        "        f = open(os.path.join(workout_dir,\"monthly.json\"), \"w\")\n",
        "        simplejson.dump(monthly_record, fp=f, indent=4*\" \", ignore_nan=True)\n",
        "        f.close()\n",
        "\n"
      ],
      "execution_count": null,
      "outputs": []
    },
    {
      "cell_type": "code",
      "metadata": {
        "colab": {
          "base_uri": "https://localhost:8080/"
        },
        "id": "KSSVIXGFO4in",
        "outputId": "e9e01480-9d2b-42dc-cbb7-6bc6f8cd7884"
      },
      "source": [
        "generate_monthly_record()"
      ],
      "execution_count": null,
      "outputs": [
        {
          "output_type": "stream",
          "name": "stderr",
          "text": [
            "100%|██████████| 170/170 [00:10<00:00, 16.13it/s]\n"
          ]
        }
      ]
    },
    {
      "cell_type": "code",
      "metadata": {
        "id": "5FeHjcGQO8cH"
      },
      "source": [
        "def generate_all_user_data():\n",
        "    user_list = get_all_user_id()\n",
        "\n",
        "    score_list = []\n",
        "    time_count = [0 for _ in range(24)]\n",
        "    avg_count_list = []\n",
        "\n",
        "    # make dir for user data\n",
        "    if not isdir(os.path.join(BASE_DIR,\"all_user\")):\n",
        "        mkdir(os.path.join(BASE_DIR,\"all_user\"))\n",
        "    # make dir for user sleep data\n",
        "    if not isdir(os.path.join(BASE_DIR,\"all_user\", \"workout\")):\n",
        "        mkdir(os.path.join(BASE_DIR,\"all_user\", \"workout\"))\n",
        "\n",
        "    for u in tqdm(user_list):\n",
        "        workout_record, score, _ = get_workout_data(u)\n",
        "\n",
        "        score_list.append(score)\n",
        "        time_count = [0 for _ in range(24)]\n",
        "        for day in workout_record:\n",
        "            for h in day:\n",
        "                time_count[int(h)] += 1\n",
        "        time_count = np.array(time_count)\n",
        "\n",
        "        workout_count = np.array([len(p) for p in workout_record])\n",
        "        workout_count_mean = workout_count.mean()\n",
        "        \n",
        "        avg_count_list.append(workout_count_mean)\n",
        "        \n",
        "\n",
        "    mean_score = np.array(score_list).mean()\n",
        "    top3 = np.argsort(time_count)[-3:].tolist()\n",
        "    avg_count = np.array(avg_count_list).mean()\n",
        "\n",
        "    all_user_data = {\"avg_count\": avg_count, \"top_3\": top3, \"score\": mean_score}\n",
        "\n",
        "    workout_dir = os.path.join(BASE_DIR,\"all_user\", \"workout\")\n",
        "\n",
        "    f = open(os.path.join(workout_dir,\"all_user.json\"), \"w\")\n",
        "    simplejson.dump(all_user_data, fp=f, indent=4*\" \", ignore_nan=True)\n",
        "    f.close()\n"
      ],
      "execution_count": null,
      "outputs": []
    },
    {
      "cell_type": "code",
      "metadata": {
        "colab": {
          "base_uri": "https://localhost:8080/"
        },
        "id": "HwDe-30fqx6w",
        "outputId": "058f9fd6-3702-452a-9053-032275319ea6"
      },
      "source": [
        "generate_all_user_data()"
      ],
      "execution_count": null,
      "outputs": [
        {
          "output_type": "stream",
          "name": "stderr",
          "text": [
            "100%|██████████| 170/170 [00:09<00:00, 18.22it/s]\n"
          ]
        }
      ]
    },
    {
      "cell_type": "code",
      "metadata": {
        "id": "5RMjAVRcqzcL"
      },
      "source": [
        "def generate_outlier():\n",
        "    user_list = get_all_user_id()\n",
        "    for u in user_list:\n",
        "        "
      ],
      "execution_count": null,
      "outputs": []
    }
  ]
}