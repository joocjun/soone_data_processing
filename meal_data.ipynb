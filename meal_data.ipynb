{
  "nbformat": 4,
  "nbformat_minor": 0,
  "metadata": {
    "colab": {
      "name": "meal_data.ipynb",
      "provenance": [],
      "collapsed_sections": []
    },
    "kernelspec": {
      "name": "python3",
      "display_name": "Python 3"
    },
    "language_info": {
      "name": "python"
    }
  },
  "cells": [
    {
      "cell_type": "code",
      "metadata": {
        "colab": {
          "base_uri": "https://localhost:8080/"
        },
        "id": "CcDdCCcEjKnJ",
        "outputId": "ae37ac33-09f8-4a9d-a8c8-d13a17e0efcc"
      },
      "source": [
        "!pip install simplejson"
      ],
      "execution_count": null,
      "outputs": [
        {
          "output_type": "stream",
          "name": "stdout",
          "text": [
            "Collecting simplejson\n",
            "  Downloading simplejson-3.17.5-cp37-cp37m-manylinux_2_5_x86_64.manylinux1_x86_64.manylinux_2_12_x86_64.manylinux2010_x86_64.whl (129 kB)\n",
            "\u001b[?25l\r\u001b[K     |██▌                             | 10 kB 22.6 MB/s eta 0:00:01\r\u001b[K     |█████                           | 20 kB 10.1 MB/s eta 0:00:01\r\u001b[K     |███████▋                        | 30 kB 8.4 MB/s eta 0:00:01\r\u001b[K     |██████████                      | 40 kB 7.6 MB/s eta 0:00:01\r\u001b[K     |████████████▋                   | 51 kB 4.1 MB/s eta 0:00:01\r\u001b[K     |███████████████▏                | 61 kB 4.4 MB/s eta 0:00:01\r\u001b[K     |█████████████████▋              | 71 kB 4.5 MB/s eta 0:00:01\r\u001b[K     |████████████████████▏           | 81 kB 5.0 MB/s eta 0:00:01\r\u001b[K     |██████████████████████▊         | 92 kB 3.8 MB/s eta 0:00:01\r\u001b[K     |█████████████████████████▎      | 102 kB 4.1 MB/s eta 0:00:01\r\u001b[K     |███████████████████████████▊    | 112 kB 4.1 MB/s eta 0:00:01\r\u001b[K     |██████████████████████████████▎ | 122 kB 4.1 MB/s eta 0:00:01\r\u001b[K     |████████████████████████████████| 129 kB 4.1 MB/s \n",
            "\u001b[?25hInstalling collected packages: simplejson\n",
            "Successfully installed simplejson-3.17.5\n"
          ]
        }
      ]
    },
    {
      "cell_type": "code",
      "metadata": {
        "id": "Ao3Qx82VF5Ud"
      },
      "source": [
        "from google.colab import drive\n",
        "import numpy as np\n",
        "import pandas as pd\n",
        "import matplotlib.pyplot as plt\n",
        "from datetime import datetime\n",
        "import json\n",
        "from os import listdir, mkdir\n",
        "from os.path import isdir\n",
        "import os\n",
        "from math import ceil, isnan\n",
        "from tqdm import tqdm\n",
        "import simplejson "
      ],
      "execution_count": null,
      "outputs": []
    },
    {
      "cell_type": "code",
      "metadata": {
        "id": "bMr_fLlQjKRi"
      },
      "source": [
        ""
      ],
      "execution_count": null,
      "outputs": []
    },
    {
      "cell_type": "code",
      "metadata": {
        "id": "vJQiSwoJPHO4"
      },
      "source": [
        "brkfst = \"brkfst\"\n",
        "lnch = \"lnch\"\n",
        "dnr = \"dnr\""
      ],
      "execution_count": null,
      "outputs": []
    },
    {
      "cell_type": "code",
      "metadata": {
        "colab": {
          "base_uri": "https://localhost:8080/"
        },
        "id": "jw7W9ZoPGKjP",
        "outputId": "f49e8cf0-c9ec-4bdf-da2e-597e56cba67f"
      },
      "source": [
        "drive.mount('/content/drive')"
      ],
      "execution_count": null,
      "outputs": [
        {
          "output_type": "stream",
          "name": "stdout",
          "text": [
            "Mounted at /content/drive\n"
          ]
        }
      ]
    },
    {
      "cell_type": "code",
      "metadata": {
        "id": "_H4T9xSZGMEu"
      },
      "source": [
        "BASE_DIR = \"/content/drive/Shareddrives/soone/summary_data\""
      ],
      "execution_count": null,
      "outputs": []
    },
    {
      "cell_type": "code",
      "metadata": {
        "id": "jvll39cAGVHL"
      },
      "source": [
        "def get_all_user_id():\n",
        "    return [f[:-4] for f in listdir(\"/content/drive/Shareddrives/soone/user_data\")]\n"
      ],
      "execution_count": null,
      "outputs": []
    },
    {
      "cell_type": "code",
      "metadata": {
        "id": "1zSR86TsGYio"
      },
      "source": [
        "def get_meal_data(id):\n",
        "    df = pd.read_csv(f\"/content/drive/Shareddrives/soone/user_data/{id}.csv\", encoding=\"cp949\")\n",
        "    meal_record = {\"brkfst\":[None for _ in range(31)], \"lnch\":[None for _ in range(31)], \"dnr\":[None for _ in range(31)]}\n",
        "    df = df.dropna(subset=[\"Z\"])\n",
        "    for idx, row in df.iterrows():\n",
        "        t = datetime.strptime(row[\"Time\"][1:], \"%Y-%m-%d %H:%M:%S\")\n",
        "        if  ( \"식사 판단\" in row[\"Z\"]) and (t.hour >= 6 and t.hour <= 11): # 아침\n",
        "            meal_record[\"brkfst\"][t.day-1] = t.hour + t.minute/60\n",
        "\n",
        "        if  (\"식사 판단\" in row[\"Z\"]) and (t.hour >= 11 and t.hour <= 15): # 점심\n",
        "            meal_record[\"lnch\"][t.day-1] = t.hour + t.minute/60\n",
        "\n",
        "        if  (\"식사 판단\" in row[\"Z\"]) and (t.hour >= 16 and t.hour <= 20): # 저녁\n",
        "            # print(t.day, t.hour, t.minute/60)\n",
        "            meal_record[\"dnr\"][t.day-1] = t.hour + t.minute/60\n",
        "\n",
        "    meal_record = pd.DataFrame(meal_record)\n",
        "    meal_record[\"count\"] = meal_record.count(axis=1)\n",
        "    score = meal_record[\"count\"].mean()/3*100\n",
        "\n",
        "    std_list = [meal_record[brkfst].dropna().std(),meal_record[lnch].dropna().std(),meal_record[dnr].dropna().std()]\n",
        "    for std in std_list:\n",
        "        if not isnan(std):\n",
        "            score -= std\n",
        "    score -= meal_record[\"count\"].std()\n",
        "    # print(meal_record[\"count\"].std())\n",
        "    return meal_record, score"
      ],
      "execution_count": null,
      "outputs": []
    },
    {
      "cell_type": "code",
      "metadata": {
        "id": "188zR3iNMFXh"
      },
      "source": [
        "df, score = get_meal_data(\"1001\")"
      ],
      "execution_count": null,
      "outputs": []
    },
    {
      "cell_type": "code",
      "metadata": {
        "colab": {
          "base_uri": "https://localhost:8080/"
        },
        "id": "28NeBxNhVWlS",
        "outputId": "4c22f882-fe88-4c54-fc14-3ae286905e37"
      },
      "source": [
        "df[dnr].dropna().std()"
      ],
      "execution_count": null,
      "outputs": [
        {
          "output_type": "execute_result",
          "data": {
            "text/plain": [
              "nan"
            ]
          },
          "metadata": {},
          "execution_count": 29
        }
      ]
    },
    {
      "cell_type": "code",
      "metadata": {
        "colab": {
          "base_uri": "https://localhost:8080/"
        },
        "id": "f583AucQUgDr",
        "outputId": "2d8d4c3e-bb6c-47a7-c10c-893abcee6d0c"
      },
      "source": [
        "score"
      ],
      "execution_count": null,
      "outputs": [
        {
          "output_type": "execute_result",
          "data": {
            "text/plain": [
              "6.762844879784293"
            ]
          },
          "metadata": {},
          "execution_count": 30
        }
      ]
    },
    {
      "cell_type": "code",
      "metadata": {
        "colab": {
          "base_uri": "https://localhost:8080/",
          "height": 204
        },
        "id": "7I5VGoIOhind",
        "outputId": "0eb35b19-f8a0-4609-c378-ccfeb17e979e"
      },
      "source": [
        "df.head()"
      ],
      "execution_count": null,
      "outputs": [
        {
          "output_type": "execute_result",
          "data": {
            "text/html": [
              "<div>\n",
              "<style scoped>\n",
              "    .dataframe tbody tr th:only-of-type {\n",
              "        vertical-align: middle;\n",
              "    }\n",
              "\n",
              "    .dataframe tbody tr th {\n",
              "        vertical-align: top;\n",
              "    }\n",
              "\n",
              "    .dataframe thead th {\n",
              "        text-align: right;\n",
              "    }\n",
              "</style>\n",
              "<table border=\"1\" class=\"dataframe\">\n",
              "  <thead>\n",
              "    <tr style=\"text-align: right;\">\n",
              "      <th></th>\n",
              "      <th>brkfst</th>\n",
              "      <th>lnch</th>\n",
              "      <th>dnr</th>\n",
              "      <th>count</th>\n",
              "    </tr>\n",
              "  </thead>\n",
              "  <tbody>\n",
              "    <tr>\n",
              "      <th>0</th>\n",
              "      <td>11.383333</td>\n",
              "      <td>11.383333</td>\n",
              "      <td>17.450000</td>\n",
              "      <td>3</td>\n",
              "    </tr>\n",
              "    <tr>\n",
              "      <th>1</th>\n",
              "      <td>11.683333</td>\n",
              "      <td>14.200000</td>\n",
              "      <td>NaN</td>\n",
              "      <td>2</td>\n",
              "    </tr>\n",
              "    <tr>\n",
              "      <th>2</th>\n",
              "      <td>NaN</td>\n",
              "      <td>14.666667</td>\n",
              "      <td>20.083333</td>\n",
              "      <td>2</td>\n",
              "    </tr>\n",
              "    <tr>\n",
              "      <th>3</th>\n",
              "      <td>NaN</td>\n",
              "      <td>14.483333</td>\n",
              "      <td>19.283333</td>\n",
              "      <td>2</td>\n",
              "    </tr>\n",
              "    <tr>\n",
              "      <th>4</th>\n",
              "      <td>9.416667</td>\n",
              "      <td>15.516667</td>\n",
              "      <td>19.200000</td>\n",
              "      <td>3</td>\n",
              "    </tr>\n",
              "  </tbody>\n",
              "</table>\n",
              "</div>"
            ],
            "text/plain": [
              "      brkfst       lnch        dnr  count\n",
              "0  11.383333  11.383333  17.450000      3\n",
              "1  11.683333  14.200000        NaN      2\n",
              "2        NaN  14.666667  20.083333      2\n",
              "3        NaN  14.483333  19.283333      2\n",
              "4   9.416667  15.516667  19.200000      3"
            ]
          },
          "metadata": {},
          "execution_count": 62
        }
      ]
    },
    {
      "cell_type": "code",
      "metadata": {
        "id": "X-XJwb0uMmu4"
      },
      "source": [
        "def generate_daily_record():\n",
        "    user_list = get_all_user_id()\n",
        "    for u in tqdm(user_list):\n",
        "        meal_record, score = get_meal_data(u)\n",
        "        # make dir for user data\n",
        "        if not isdir(os.path.join(BASE_DIR,u)):\n",
        "            mkdir(os.path.join(BASE_DIR,u))\n",
        "        # make dir for user sleep data\n",
        "        if not isdir(os.path.join(BASE_DIR,u, \"meal\")):\n",
        "            mkdir(os.path.join(BASE_DIR,u, \"meal\"))\n",
        "        meal_dir = os.path.join(BASE_DIR,u, \"meal\")\n",
        "        daily_json_list = [[] for _ in range(ceil(31/7))]\n",
        "        i = 0\n",
        "        for _, row in meal_record.iterrows():\n",
        "            daily_record = {}\n",
        "            daily_record[brkfst], daily_record[lnch], daily_record[dnr] = \\\n",
        "            row[brkfst] if row[brkfst] else None, \\\n",
        "            row[lnch] if row[lnch] else None \\\n",
        "            , row[dnr] if row[dnr] else None\n",
        "            daily_json_list[i//7].append(daily_record)\n",
        "            i += 1\n",
        "        \n",
        "        f = open(os.path.join(meal_dir, \"daily.json\"), \"w\")\n",
        "       \n",
        "        simplejson.dump(daily_json_list, fp=f, indent=4*\" \", ignore_nan=True)\n",
        "        f.close()\n"
      ],
      "execution_count": null,
      "outputs": []
    },
    {
      "cell_type": "code",
      "metadata": {
        "colab": {
          "base_uri": "https://localhost:8080/"
        },
        "id": "1y_lEX5jQc5m",
        "outputId": "4dd9d8a5-3da7-4358-ad57-7586994aca01"
      },
      "source": [
        "generate_daily_record()"
      ],
      "execution_count": null,
      "outputs": [
        {
          "output_type": "stream",
          "name": "stderr",
          "text": [
            "100%|██████████| 170/170 [00:11<00:00, 14.24it/s]\n"
          ]
        }
      ]
    },
    {
      "cell_type": "code",
      "metadata": {
        "colab": {
          "base_uri": "https://localhost:8080/",
          "height": 35
        },
        "id": "J475KSM9Qfbc",
        "outputId": "f4d88b4b-6c75-4c35-ca49-8577b285237e"
      },
      "source": [
        " get_all_user_id()[158]"
      ],
      "execution_count": null,
      "outputs": [
        {
          "output_type": "execute_result",
          "data": {
            "application/vnd.google.colaboratory.intrinsic+json": {
              "type": "string"
            },
            "text/plain": [
              "'811'"
            ]
          },
          "metadata": {},
          "execution_count": 21
        }
      ]
    },
    {
      "cell_type": "code",
      "metadata": {
        "id": "lpz5z5-ze-yJ"
      },
      "source": [
        "def generate_monthly_record():\n",
        "    user_list = get_all_user_id()\n",
        "    for u in tqdm(user_list):\n",
        "        meal_record, score = get_meal_data(u)\n",
        "\n",
        "        meal_dir = os.path.join(BASE_DIR,u, \"meal\")\n",
        "        daily_json_list = [[] for _ in range(ceil(31/7))]\n",
        "        \n",
        "        monthly_record = {}\n",
        "        avg_brkfst = meal_record[brkfst].mean()\n",
        "        avg_lnch = meal_record[lnch].mean()\n",
        "        avg_dnr = meal_record[dnr].mean()\n",
        "        \n",
        "        monthly_record[\"avg_brkfst\"] = avg_brkfst\n",
        "        monthly_record[\"avg_lnch\"] = avg_lnch\n",
        "        monthly_record[\"avg_dnr\"] = avg_dnr\n",
        "        monthly_record[\"score\"] = score\n",
        "\n",
        "        f = open(os.path.join(meal_dir, \"monthly.json\"), \"w\")\n",
        "       \n",
        "        simplejson.dump(monthly_record, fp=f, indent=4*\" \", ignore_nan=True)\n",
        "        f.close()\n",
        "\n",
        "def generate_outlier():\n",
        "    user_list = get_all_user_id()\n",
        "    for u in tqdm(user_list):\n",
        "        meal_record, score = get_meal_data(u)\n",
        "\n",
        "        meal_dir = os.path.join(BASE_DIR,u, \"meal\")\n",
        "        daily_json_list = [[] for _ in range(ceil(31/7))]\n",
        "        \n",
        "        skip_list = [[], [], []]\n",
        "\n",
        "        for i, row in meal_record.iterrows():\n",
        "            row_skip = row.isna()\n",
        "            for j in range(3):\n",
        "                if row_skip[j]:\n",
        "                    skip_list[j].append(i+1)\n",
        "\n",
        "        skip_record = {\"brkfst\":skip_list[0], \"lnch\":skip_list[1], \"dnr\":skip_list[2]}\n",
        "        f = open(os.path.join(meal_dir, \"outlier.json\"), \"w\")\n",
        "       \n",
        "        simplejson.dump(skip_record, fp=f, indent=4*\" \", ignore_nan=True)\n",
        "        f.close()"
      ],
      "execution_count": null,
      "outputs": []
    },
    {
      "cell_type": "code",
      "metadata": {
        "colab": {
          "base_uri": "https://localhost:8080/"
        },
        "id": "7MvQEVODn9zf",
        "outputId": "43679c77-23b5-4f2d-cee6-d2b215abb1a9"
      },
      "source": [
        "generate_monthly_record()\n",
        "generate_outlier()"
      ],
      "execution_count": null,
      "outputs": [
        {
          "output_type": "stream",
          "name": "stderr",
          "text": [
            "100%|██████████| 170/170 [06:27<00:00,  2.28s/it]\n",
            "100%|██████████| 170/170 [02:10<00:00,  1.30it/s]\n"
          ]
        }
      ]
    },
    {
      "cell_type": "code",
      "metadata": {
        "colab": {
          "base_uri": "https://localhost:8080/"
        },
        "id": "T4nDGQ3hnHR9",
        "outputId": "5d1d06d2-4549-4c91-9799-24c427fd8943"
      },
      "source": [
        "df.iloc[1].isna()"
      ],
      "execution_count": null,
      "outputs": [
        {
          "output_type": "execute_result",
          "data": {
            "text/plain": [
              "brkfst    False\n",
              "lnch      False\n",
              "dnr        True\n",
              "count     False\n",
              "Name: 1, dtype: bool"
            ]
          },
          "metadata": {},
          "execution_count": 67
        }
      ]
    },
    {
      "cell_type": "code",
      "metadata": {
        "id": "MOJBUVivoLy9"
      },
      "source": [
        "def check_score_hist():\n",
        "    user_list = get_all_user_id()\n",
        "    score_list = [ get_meal_data(u)[1] for u in get_all_user_id()]\n",
        "    plt.hist(score_list)\n",
        "    print(f\"min : {min(score_list)}, max : {max(score_list)}\")\n",
        "    plt.show()"
      ],
      "execution_count": null,
      "outputs": []
    },
    {
      "cell_type": "code",
      "metadata": {
        "colab": {
          "base_uri": "https://localhost:8080/",
          "height": 282
        },
        "id": "L3smeAKsnJsg",
        "outputId": "f25103eb-d0b9-4eea-8b41-11902ba012e7"
      },
      "source": [
        "check_score_hist()"
      ],
      "execution_count": null,
      "outputs": [
        {
          "output_type": "stream",
          "name": "stdout",
          "text": [
            "min : 3.349644656479509, max : 88.41554662334516\n"
          ]
        },
        {
          "output_type": "display_data",
          "data": {
            "image/png": "[encoded data removed]",
            "text/plain": [
              "<Figure size 432x288 with 1 Axes>"
            ]
          },
          "metadata": {
            "needs_background": "light"
          }
        }
      ]
    },
    {
      "cell_type": "code",
      "metadata": {
        "id": "uqdUSaLwopd_"
      },
      "source": [
        "def generate_all_user_data():\n",
        "    user_list = get_all_user_id()\n",
        "    avg_brkfst_list = []\n",
        "    avg_lnch_list = []\n",
        "    avg_dnr_list = []\n",
        "    score_list = []\n",
        "    for u in tqdm(user_list):\n",
        "        meal_data, score = get_meal_data(u)\n",
        "        avg_brkfst = meal_data[brkfst].mean()\n",
        "        avg_lnch = meal_data[lnch].mean()\n",
        "        avg_dnr = meal_data[dnr].mean()\n",
        "\n",
        "        if score:\n",
        "            score_list.append(score)\n",
        "        if avg_brkfst:\n",
        "            avg_brkfst_list.append(avg_brkfst)\n",
        "        if avg_lnch:\n",
        "            avg_lnch_list.append(avg_lnch)\n",
        "        if avg_dnr:\n",
        "            avg_dnr_list.append(avg_dnr)\n",
        "        \n",
        "        # print(f\"uid : {u}, b:{avg_brkfst}, l:{avg_lnch}, d:{avg_dnr}, score:{score}\")\n",
        "    \n",
        "    avg_brkfst_list = np.array(avg_brkfst_list)\n",
        "    avg_lnch_list = np.array(avg_lnch_list)\n",
        "    avg_dnr_list = np.array(avg_dnr_list)\n",
        "    score_list = np.array(score_list)\n",
        "\n",
        "    all_user_data = {\"avg_brkfst\":avg_brkfst_list[~np.isnan(avg_brkfst_list)].mean(),\n",
        "                     \"avg_lnch\":avg_lnch_list[~np.isnan(avg_lnch_list)].mean(),\n",
        "                     \"avg_dnr\":avg_dnr_list[~np.isnan(avg_dnr_list)].mean(),\n",
        "                     \"score\" : score_list[~np.isnan(score_list)].mean() \n",
        "                     }\n",
        "    save_dir = os.path.join(BASE_DIR,\"all_user\", \"meal\")\n",
        "    if not isdir(save_dir):\n",
        "        os.mkdir(save_dir)\n",
        "    f = open(os.path.join(save_dir,\"all_user_average.json\"), \"w\")\n",
        "    simplejson.dump(all_user_data, fp=f, indent=4*\" \", ignore_nan=True)\n",
        "    f.close()\n",
        "\n",
        "\n"
      ],
      "execution_count": null,
      "outputs": []
    },
    {
      "cell_type": "code",
      "metadata": {
        "colab": {
          "base_uri": "https://localhost:8080/"
        },
        "id": "HwDe-30fqx6w",
        "outputId": "a7b4ad32-146f-40c0-bd47-48464920ad7b"
      },
      "source": [
        "generate_all_user_data()"
      ],
      "execution_count": null,
      "outputs": [
        {
          "output_type": "stream",
          "name": "stderr",
          "text": [
            "100%|██████████| 170/170 [00:10<00:00, 16.21it/s]\n"
          ]
        }
      ]
    },
    {
      "cell_type": "code",
      "metadata": {
        "id": "5RMjAVRcqzcL"
      },
      "source": [
        ""
      ],
      "execution_count": null,
      "outputs": []
    }
  ]
}